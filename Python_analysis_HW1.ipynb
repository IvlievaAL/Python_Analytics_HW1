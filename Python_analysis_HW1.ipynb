{
 "cells": [
  {
   "cell_type": "markdown",
   "metadata": {},
   "source": [
    "\n",
    "***Тема: Оформление ноутбука и закрепление функций и генераторов***\n",
    "\n",
    "# Домашнее задание 1\n",
    "\n",
    ">Оформляйте ноутбук, используя эти советы:\n",
    "## Номер задачи - заголовок 2\n",
    "### Номер подзадачи - заголовок 3\n",
    ">Предоставленные наборы данных оформляйте, как код."
   ]
  },
  {
   "cell_type": "markdown",
   "metadata": {},
   "source": [
    "## Домашнее задание 2\n",
    "На складе лежат разные фрукты в разном количестве.\n",
    "Нужно написать **функцию**, которая **на вход** принимает *любое*\n",
    "*количество названий фруктов и их количество*, а **возвращает**\n",
    "*общее количество фруктов* на складе."
   ]
  },
  {
   "cell_type": "code",
   "execution_count": 1,
   "metadata": {},
   "outputs": [
    {
     "name": "stdout",
     "output_type": "stream",
     "text": [
      "6\n"
     ]
    }
   ],
   "source": [
    "def to_count_fruits(fruits: dict) -> int:\n",
    "    how_many_fruits = 0\n",
    "    for value in fruits.values():\n",
    "        how_many_fruits = how_many_fruits + value\n",
    "    return how_many_fruits\n",
    "    \n",
    "\n",
    "fruits_how_many = {\"apple\": 1, \"banana\": 2, \"orange\": 3}\n",
    "print(to_count_fruits(fruits_how_many))"
   ]
  },
  {
   "cell_type": "markdown",
   "metadata": {},
   "source": [
    "## Домашнее задание 3\n",
    "Дан список с затратами на рекламу. Но в данных есть ошибки,\n",
    "некоторые затраты имеют отрицательную величину. Удалите\n",
    "такие значения из списка и посчитайте суммарные затраты."
   ]
  },
  {
   "cell_type": "code",
   "execution_count": null,
   "metadata": {},
   "outputs": [],
   "source": [
    "[100, 125, -90, 345, 655, -1, 0, 200]"
   ]
  },
  {
   "cell_type": "markdown",
   "metadata": {},
   "source": [
    "Используйте list comprehensions."
   ]
  },
  {
   "cell_type": "code",
   "execution_count": 2,
   "metadata": {},
   "outputs": [
    {
     "name": "stdout",
     "output_type": "stream",
     "text": [
      "1425\n"
     ]
    }
   ],
   "source": [
    "our_data = [100, 125, -90, 345, 655, -1, 0, 200]\n",
    "our_data_without_negatives = [i for i in our_data if i >= 0]\n",
    "our_sum = sum(our_data_without_negatives)\n",
    "print(our_sum)"
   ]
  }
 ],
 "metadata": {
  "kernelspec": {
   "display_name": "Python 3",
   "language": "python",
   "name": "python3"
  },
  "language_info": {
   "codemirror_mode": {
    "name": "ipython",
    "version": 3
   },
   "file_extension": ".py",
   "mimetype": "text/x-python",
   "name": "python",
   "nbconvert_exporter": "python",
   "pygments_lexer": "ipython3",
   "version": "3.11.3"
  },
  "orig_nbformat": 4
 },
 "nbformat": 4,
 "nbformat_minor": 2
}
